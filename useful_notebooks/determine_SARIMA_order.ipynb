{
 "cells": [
  {
   "cell_type": "markdown",
   "metadata": {},
   "source": [
    "# Determine SARIMAX order\n",
    "\n",
    "Use pmdarima to find the values for the SARIMA model.\n",
    "\n",
    "Based on: https://github.com/MKB-Datalab/time-series-analysis-with-SARIMAX-and-Prophet/blob/master/notebooks/02-Forecasting_with_SARIMAX.ipynb\n",
    "\n",
    "## Conclusion\n",
    "### residential WITH_PV:\n",
    "\n",
    "Performing stepwise search to minimize aic\n",
    " - ARIMA(0,1,0)(0,0,0)[96] intercept   : AIC=6918.316, Time=0.17 sec\n",
    " - ARIMA(1,1,0)(1,0,0)[96] intercept   : AIC=6906.702, Time=6.23 sec\n",
    " - ARIMA(0,1,1)(0,0,1)[96] intercept   : AIC=6904.724, Time=5.30 sec\n",
    " - ARIMA(0,1,0)(0,0,0)[96]             : AIC=6916.322, Time=0.02 sec\n",
    " - ARIMA(0,1,1)(0,0,0)[96] intercept   : AIC=6903.313, Time=0.11 sec\n",
    " - ARIMA(0,1,1)(1,0,0)[96] intercept   : AIC=6904.583, Time=4.28 sec\n",
    " - ARIMA(0,1,1)(1,0,1)[96] intercept   : AIC=6906.083, Time=5.30 sec\n",
    " - ARIMA(1,1,1)(0,0,0)[96] intercept   : AIC=6903.978, Time=0.19 sec\n",
    " - ARIMA(0,1,2)(0,0,0)[96] intercept   : AIC=6903.936, Time=0.14 sec\n",
    " - ARIMA(1,1,0)(0,0,0)[96] intercept   : AIC=6905.635, Time=0.08 sec\n",
    " - ARIMA(1,1,2)(0,0,0)[96] intercept   : AIC=6905.923, Time=0.20 sec\n",
    " - ARIMA(0,1,1)(0,0,0)[96]             : AIC=6901.313, Time=0.05 sec\n",
    " - ARIMA(0,1,1)(1,0,0)[96]             : AIC=6902.583, Time=2.60 sec\n",
    " - ARIMA(0,1,1)(0,0,1)[96]             : AIC=6902.724, Time=3.55 sec\n",
    " - ARIMA(0,1,1)(1,0,1)[96]             : AIC=6904.083, Time=5.22 sec\n",
    " - ARIMA(1,1,1)(0,0,0)[96]             : AIC=6901.978, Time=0.07 sec\n",
    " - ARIMA(0,1,2)(0,0,0)[96]             : AIC=6901.935, Time=0.07 sec\n",
    " - ARIMA(1,1,0)(0,0,0)[96]             : AIC=6903.637, Time=0.04 sec\n",
    " - ARIMA(1,1,2)(0,0,0)[96]             : AIC=6903.921, Time=0.11 sec\n",
    "\n",
    "Best model:  ARIMA(0,1,1)(0,0,0)[96]          \n",
    "Total fit time: 33.920 seconds\n",
    "\n",
    "### residential NO_PV\n",
    "\n",
    "Performing stepwise search to minimize aic\n",
    " - ARIMA(0,1,0)(0,0,0)[96] intercept   : AIC=7206.921, Time=0.04 sec\n",
    " - ARIMA(1,1,0)(1,0,0)[96] intercept   : AIC=7186.202, Time=4.83 sec\n",
    " - ARIMA(0,1,1)(0,0,1)[96] intercept   : AIC=7151.917, Time=4.21 sec\n",
    " - ARIMA(0,1,0)(0,0,0)[96]             : AIC=7204.933, Time=0.01 sec\n",
    " - ARIMA(0,1,1)(0,0,0)[96] intercept   : AIC=7158.161, Time=0.08 sec\n",
    " - ARIMA(0,1,1)(1,0,1)[96] intercept   : AIC=7152.758, Time=6.01 sec\n",
    " - ARIMA(0,1,1)(0,0,2)[96] intercept   : AIC=7151.222, Time=23.45 sec\n",
    " - ARIMA(0,1,1)(1,0,2)[96] intercept   : AIC=7153.667, Time=34.29 sec\n",
    " - ARIMA(0,1,0)(0,0,2)[96] intercept   : AIC=7205.025, Time=33.94 sec\n",
    " - ARIMA(1,1,1)(0,0,2)[96] intercept   : AIC=inf, Time=33.62 sec\n",
    " - ARIMA(0,1,2)(0,0,2)[96] intercept   : AIC=7100.731, Time=32.16 sec\n",
    " - ARIMA(0,1,2)(0,0,1)[96] intercept   : AIC=7101.501, Time=5.24 sec\n",
    " - ARIMA(0,1,2)(1,0,2)[96] intercept   : AIC=7103.678, Time=43.70 sec\n",
    " - ARIMA(0,1,2)(1,0,1)[96] intercept   : AIC=7102.781, Time=8.74 sec\n",
    " - ARIMA(1,1,2)(0,0,2)[96] intercept   : AIC=7102.671, Time=37.17 sec\n",
    " - ARIMA(0,1,3)(0,0,2)[96] intercept   : AIC=7097.000, Time=35.75 sec\n",
    " - ARIMA(0,1,3)(0,0,1)[96] intercept   : AIC=7097.446, Time=6.93 sec\n",
    " - ARIMA(0,1,3)(1,0,2)[96] intercept   : AIC=7100.045, Time=43.99 sec\n",
    " - ARIMA(0,1,3)(1,0,1)[96] intercept   : AIC=7100.475, Time=7.76 sec"
   ]
  },
  {
   "cell_type": "code",
   "execution_count": 1,
   "metadata": {},
   "outputs": [],
   "source": [
    "from pathlib import Path\n",
    "import matplotlib.pyplot as plt\n",
    "import pandas as pd\n",
    "import numpy as np\n",
    "\n",
    "import statsmodels.api as sm\n",
    "from pmdarima import auto_arima"
   ]
  },
  {
   "cell_type": "code",
   "execution_count": 2,
   "metadata": {},
   "outputs": [],
   "source": [
    "usable_data_folder = Path(r\"C:\\Users\\Flin\\OneDrive - TU Eindhoven\\Flin\\Flin\\01 - Uni\\00_Internship\\Nokia\\00_Programming\\forecasting\\datasets\\train\")\n",
    "TINY_TEST = True"
   ]
  },
  {
   "cell_type": "code",
   "execution_count": 3,
   "metadata": {},
   "outputs": [],
   "source": [
    "def lazy_load_data(path):\n",
    "    df = pd.read_csv(path)\n",
    "    \n",
    "    if TINY_TEST:\n",
    "        df = df.iloc[:4*24*5]\n",
    "\n",
    "    y = df[\"y\"].values\n",
    "\n",
    "    X = df.drop(columns=[\"datetimes\", \"y\"]).to_numpy()\n",
    "\n",
    "    return y, X\n",
    "\n",
    "def lazy_auto_arima(path):\n",
    "    y, X = lazy_load_data(path)\n",
    "\n",
    "    model = auto_arima(y=y,\n",
    "                        # X=X, \n",
    "                        seasonal=True,\n",
    "                        m=4*24,\n",
    "                        start_p=0,\n",
    "                        d=1, # See determine how stationary\n",
    "                        start_q=0,\n",
    "                        start_D=0,\n",
    "                        max_D=1,\n",
    "                        max_p=4,\n",
    "                        max_q=4,\n",
    "                        start_P=0,\n",
    "                        start_Q=0,\n",
    "                        max_P=2,\n",
    "                        max_Q=2,\n",
    "                        information_criterion=\"aic\",\n",
    "                        trace=True,\n",
    "                        error_action=\"ignore\",\n",
    "                        stepwise=True,\n",
    "                        maxiter=3\n",
    "                        )\n",
    "\n",
    "    return model\n",
    "\n",
    "\n",
    "\n"
   ]
  },
  {
   "cell_type": "markdown",
   "metadata": {},
   "source": [
    "## RESIDENTIAL WITH PV"
   ]
  },
  {
   "cell_type": "code",
   "execution_count": 4,
   "metadata": {},
   "outputs": [
    {
     "name": "stdout",
     "output_type": "stream",
     "text": [
      "Performing stepwise search to minimize aic\n",
      " ARIMA(0,1,0)(0,0,0)[96] intercept   : AIC=6918.316, Time=0.17 sec\n",
      " ARIMA(1,1,0)(1,0,0)[96] intercept   : AIC=6906.702, Time=6.23 sec\n",
      " ARIMA(0,1,1)(0,0,1)[96] intercept   : AIC=6904.724, Time=5.30 sec\n",
      " ARIMA(0,1,0)(0,0,0)[96]             : AIC=6916.322, Time=0.02 sec\n",
      " ARIMA(0,1,1)(0,0,0)[96] intercept   : AIC=6903.313, Time=0.11 sec\n",
      " ARIMA(0,1,1)(1,0,0)[96] intercept   : AIC=6904.583, Time=4.28 sec\n",
      " ARIMA(0,1,1)(1,0,1)[96] intercept   : AIC=6906.083, Time=5.30 sec\n",
      " ARIMA(1,1,1)(0,0,0)[96] intercept   : AIC=6903.978, Time=0.19 sec\n",
      " ARIMA(0,1,2)(0,0,0)[96] intercept   : AIC=6903.936, Time=0.14 sec\n",
      " ARIMA(1,1,0)(0,0,0)[96] intercept   : AIC=6905.635, Time=0.08 sec\n",
      " ARIMA(1,1,2)(0,0,0)[96] intercept   : AIC=6905.923, Time=0.20 sec\n",
      " ARIMA(0,1,1)(0,0,0)[96]             : AIC=6901.313, Time=0.05 sec\n",
      " ARIMA(0,1,1)(1,0,0)[96]             : AIC=6902.583, Time=2.60 sec\n",
      " ARIMA(0,1,1)(0,0,1)[96]             : AIC=6902.724, Time=3.55 sec\n",
      " ARIMA(0,1,1)(1,0,1)[96]             : AIC=6904.083, Time=5.22 sec\n",
      " ARIMA(1,1,1)(0,0,0)[96]             : AIC=6901.978, Time=0.07 sec\n",
      " ARIMA(0,1,2)(0,0,0)[96]             : AIC=6901.935, Time=0.07 sec\n",
      " ARIMA(1,1,0)(0,0,0)[96]             : AIC=6903.637, Time=0.04 sec\n",
      " ARIMA(1,1,2)(0,0,0)[96]             : AIC=6903.921, Time=0.11 sec\n",
      "\n",
      "Best model:  ARIMA(0,1,1)(0,0,0)[96]          \n",
      "Total fit time: 33.920 seconds\n"
     ]
    }
   ],
   "source": [
    "fn = r\"residential_with_pv\\h=2_residential_2018_WITH_PV_SFH13_2018.csv\" # r\"industrial\\h=2_industrial_2016_LG_1.csv\"\n",
    "path = usable_data_folder / fn\n",
    "\n",
    "rwp_model = lazy_auto_arima(path)"
   ]
  },
  {
   "cell_type": "markdown",
   "metadata": {},
   "source": [
    "## RESIDENTIAL NO PV"
   ]
  },
  {
   "cell_type": "code",
   "execution_count": 5,
   "metadata": {},
   "outputs": [
    {
     "name": "stdout",
     "output_type": "stream",
     "text": [
      "Performing stepwise search to minimize aic\n",
      " ARIMA(0,1,0)(0,0,0)[96] intercept   : AIC=7206.921, Time=0.04 sec\n",
      " ARIMA(1,1,0)(1,0,0)[96] intercept   : AIC=7186.202, Time=4.83 sec\n",
      " ARIMA(0,1,1)(0,0,1)[96] intercept   : AIC=7151.917, Time=4.21 sec\n",
      " ARIMA(0,1,0)(0,0,0)[96]             : AIC=7204.933, Time=0.01 sec\n",
      " ARIMA(0,1,1)(0,0,0)[96] intercept   : AIC=7158.161, Time=0.08 sec\n",
      " ARIMA(0,1,1)(1,0,1)[96] intercept   : AIC=7152.758, Time=6.01 sec\n",
      " ARIMA(0,1,1)(0,0,2)[96] intercept   : AIC=7151.222, Time=23.45 sec\n",
      " ARIMA(0,1,1)(1,0,2)[96] intercept   : AIC=7153.667, Time=34.29 sec\n",
      " ARIMA(0,1,0)(0,0,2)[96] intercept   : AIC=7205.025, Time=33.94 sec\n",
      " ARIMA(1,1,1)(0,0,2)[96] intercept   : AIC=inf, Time=33.62 sec\n",
      " ARIMA(0,1,2)(0,0,2)[96] intercept   : AIC=7100.731, Time=32.16 sec\n",
      " ARIMA(0,1,2)(0,0,1)[96] intercept   : AIC=7101.501, Time=5.24 sec\n",
      " ARIMA(0,1,2)(1,0,2)[96] intercept   : AIC=7103.678, Time=43.70 sec\n",
      " ARIMA(0,1,2)(1,0,1)[96] intercept   : AIC=7102.781, Time=8.74 sec\n",
      " ARIMA(1,1,2)(0,0,2)[96] intercept   : AIC=7102.671, Time=37.17 sec\n",
      " ARIMA(0,1,3)(0,0,2)[96] intercept   : AIC=7097.000, Time=35.75 sec\n",
      " ARIMA(0,1,3)(0,0,1)[96] intercept   : AIC=7097.446, Time=6.93 sec\n",
      " ARIMA(0,1,3)(1,0,2)[96] intercept   : AIC=7100.045, Time=43.99 sec\n",
      " ARIMA(0,1,3)(1,0,1)[96] intercept   : AIC=7100.475, Time=7.76 sec\n"
     ]
    }
   ],
   "source": [
    "fn = r\"residential_no_pv\\h=2_residential_2018_NO_PV_SFH18_2018.csv\" # r\"industrial\\h=2_industrial_2016_LG_1.csv\"\n",
    "path = usable_data_folder / fn\n",
    "\n",
    "rwp_model = lazy_auto_arima(path)"
   ]
  },
  {
   "cell_type": "markdown",
   "metadata": {},
   "source": [
    "## INDUSTRIAL"
   ]
  },
  {
   "cell_type": "code",
   "execution_count": 4,
   "metadata": {},
   "outputs": [
    {
     "name": "stdout",
     "output_type": "stream",
     "text": [
      "Performing stepwise search to minimize aic\n",
      " ARIMA(0,1,0)(0,0,0)[96] intercept   : AIC=3589.079, Time=0.17 sec\n",
      " ARIMA(1,1,0)(1,0,0)[96] intercept   : AIC=3540.084, Time=6.22 sec\n",
      " ARIMA(0,1,1)(0,0,1)[96] intercept   : AIC=3548.816, Time=6.93 sec\n",
      " ARIMA(0,1,0)(0,0,0)[96]             : AIC=3587.082, Time=0.07 sec\n",
      " ARIMA(1,1,0)(0,0,0)[96] intercept   : AIC=3548.835, Time=0.15 sec\n",
      " ARIMA(1,1,0)(2,0,0)[96] intercept   : AIC=inf, Time=47.94 sec\n",
      " ARIMA(1,1,0)(1,0,1)[96] intercept   : AIC=3540.728, Time=7.95 sec\n",
      " ARIMA(1,1,0)(0,0,1)[96] intercept   : AIC=3541.607, Time=6.31 sec\n",
      " ARIMA(1,1,0)(2,0,1)[96] intercept   : AIC=inf, Time=45.29 sec\n",
      " ARIMA(0,1,0)(1,0,0)[96] intercept   : AIC=3561.859, Time=5.08 sec\n",
      " ARIMA(2,1,0)(1,0,0)[96] intercept   : AIC=3529.899, Time=6.08 sec\n",
      " ARIMA(2,1,0)(0,0,0)[96] intercept   : AIC=3535.782, Time=0.62 sec\n",
      " ARIMA(2,1,0)(2,0,0)[96] intercept   : AIC=inf, Time=40.23 sec\n",
      " ARIMA(2,1,0)(1,0,1)[96] intercept   : AIC=3530.308, Time=8.56 sec\n",
      " ARIMA(2,1,0)(0,0,1)[96] intercept   : AIC=3530.947, Time=7.15 sec\n",
      " ARIMA(2,1,0)(2,0,1)[96] intercept   : AIC=inf, Time=55.57 sec\n",
      " ARIMA(3,1,0)(1,0,0)[96] intercept   : AIC=3520.990, Time=7.04 sec\n",
      " ARIMA(3,1,0)(0,0,0)[96] intercept   : AIC=3525.948, Time=0.18 sec\n",
      " ARIMA(3,1,0)(2,0,0)[96] intercept   : AIC=3521.723, Time=39.90 sec\n",
      " ARIMA(3,1,0)(1,0,1)[96] intercept   : AIC=3521.332, Time=7.29 sec\n",
      " ARIMA(3,1,0)(0,0,1)[96] intercept   : AIC=3521.832, Time=6.38 sec\n",
      " ARIMA(3,1,0)(2,0,1)[96] intercept   : AIC=inf, Time=72.03 sec\n",
      " ARIMA(4,1,0)(1,0,0)[96] intercept   : AIC=3520.899, Time=16.93 sec\n",
      " ARIMA(4,1,0)(0,0,0)[96] intercept   : AIC=3525.626, Time=0.38 sec\n"
     ]
    },
    {
     "ename": "MemoryError",
     "evalue": "Unable to allocate 142. MiB for an array with shape (197, 197, 481) and data type float64",
     "output_type": "error",
     "traceback": [
      "\u001b[1;31m---------------------------------------------------------------------------\u001b[0m",
      "\u001b[1;31mMemoryError\u001b[0m                               Traceback (most recent call last)",
      "\u001b[1;32mstatsmodels\\tsa\\statespace\\_kalman_smoother.pyx\u001b[0m in \u001b[0;36mstatsmodels.tsa.statespace._kalman_smoother.dKalmanSmoother.allocate_arrays\u001b[1;34m()\u001b[0m\n",
      "\u001b[1;31mMemoryError\u001b[0m: Unable to allocate 142. MiB for an array with shape (197, 197, 481) and data type float64"
     ]
    },
    {
     "ename": "",
     "evalue": "",
     "output_type": "error",
     "traceback": [
      "\u001b[1;31mCanceled future for execute_request message before replies were done"
     ]
    },
    {
     "ename": "",
     "evalue": "",
     "output_type": "error",
     "traceback": [
      "\u001b[1;31mThe Kernel crashed while executing code in the the current cell or a previous cell. Please review the code in the cell(s) to identify a possible cause of the failure. Click <a href='https://aka.ms/vscodeJupyterKernelCrash'>here</a> for more info. View Jupyter <a href='command:jupyter.viewOutput'>log</a> for further details."
     ]
    }
   ],
   "source": [
    "fn = r\"industrial\\h=2_industrial_2016_LG_9.csv\"\n",
    "path = usable_data_folder / fn\n",
    "\n",
    "model = lazy_auto_arima(path)"
   ]
  }
 ],
 "metadata": {
  "kernelspec": {
   "display_name": "Python 3.7.13 ('energy_forecasts')",
   "language": "python",
   "name": "python3"
  },
  "language_info": {
   "codemirror_mode": {
    "name": "ipython",
    "version": 3
   },
   "file_extension": ".py",
   "mimetype": "text/x-python",
   "name": "python",
   "nbconvert_exporter": "python",
   "pygments_lexer": "ipython3",
   "version": "3.7.12"
  },
  "orig_nbformat": 4,
  "vscode": {
   "interpreter": {
    "hash": "034639b8fcf9faf1d0ccb70d7c40012b60a0e6bcd9c8d21c671f783171305b52"
   }
  }
 },
 "nbformat": 4,
 "nbformat_minor": 2
}
